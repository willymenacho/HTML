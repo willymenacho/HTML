{
  "nbformat": 4,
  "nbformat_minor": 0,
  "metadata": {
    "colab": {
      "provenance": [],
      "authorship_tag": "ABX9TyOFuGqXxZhVEeZUxXObVX2r",
      "include_colab_link": true
    },
    "kernelspec": {
      "name": "python3",
      "display_name": "Python 3"
    },
    "language_info": {
      "name": "python"
    }
  },
  "cells": [
    {
      "cell_type": "markdown",
      "metadata": {
        "id": "view-in-github",
        "colab_type": "text"
      },
      "source": [
        "<a href=\"https://colab.research.google.com/github/willymenacho/HTML/blob/main/MESH_GENERATOR.ipynb\" target=\"_parent\"><img src=\"https://colab.research.google.com/assets/colab-badge.svg\" alt=\"Open In Colab\"/></a>"
      ]
    },
    {
      "cell_type": "code",
      "source": [],
      "metadata": {
        "id": "HzXtP2cAl2UZ"
      },
      "execution_count": null,
      "outputs": []
    },
    {
      "cell_type": "code",
      "execution_count": 12,
      "metadata": {
        "colab": {
          "base_uri": "https://localhost:8080/"
        },
        "id": "ZANICXRMf9Ln",
        "outputId": "cbf3190d-9618-47f1-e42f-2ac818c5869e"
      },
      "outputs": [
        {
          "output_type": "stream",
          "name": "stdout",
          "text": [
            "ERROR: File or directory already exists: '/usr/local/miniconda'\n",
            "If you want to update an existing installation, use the -u option.\n"
          ]
        }
      ],
      "source": [
        "\n",
        "\n"
      ]
    },
    {
      "cell_type": "code",
      "source": [
        "# Descargar e instalar Miniconda (conda base)\n",
        "!wget -q https://repo.anaconda.com/miniconda/Miniconda3-latest-Linux-x86_64.sh\n",
        "!bash Miniconda3-latest-Linux-x86_64.sh -b -p /usr/local/miniconda\n",
        "\n",
        "import sys\n",
        "import os\n",
        "sys.path.append('/usr/local/miniconda/lib/python3.10/site-packages')\n",
        "os.environ['PATH'] = '/usr/local/miniconda/bin:' + os.environ['PATH']\n",
        "\n",
        "# Aceptar Terms of Service para evitar preguntas interactivas\n",
        "!conda tos accept --override-channels --channel https://repo.anaconda.com/pkgs/main\n",
        "!conda tos accept --override-channels --channel https://repo.anaconda.com/pkgs/r\n",
        "\n",
        "# Instalar NanoShaper en el entorno base de conda\n",
        "!conda install electrostatics::nanoshaper\n",
        "\n",
        "# Verificar instalación\n",
        "NANOSHAPER_PATH = \"/usr/local/miniconda/bin/NanoShaper\"\n"
      ],
      "metadata": {
        "colab": {
          "base_uri": "https://localhost:8080/"
        },
        "id": "4omIdbwHixxR",
        "outputId": "c597a43f-8dc1-45c1-c63c-6c1fae2ed2a6"
      },
      "execution_count": 5,
      "outputs": [
        {
          "output_type": "stream",
          "name": "stdout",
          "text": [
            "ERROR: File or directory already exists: '/usr/local/miniconda'\n",
            "If you want to update an existing installation, use the -u option.\n",
            "accepted Terms of Service for \u001b[4;94mhttps://repo.anaconda.com/pkgs/main\u001b[0m\n",
            "accepted Terms of Service for \u001b[4;94mhttps://repo.anaconda.com/pkgs/r\u001b[0m\n",
            "\u001b[1;32m2\u001b[0m\u001b[1;32m channel Terms of Service accepted\u001b[0m\n",
            "Channels:\n",
            " - defaults\n",
            " - electrostatics\n",
            "Platform: linux-64\n",
            "Collecting package metadata (repodata.json): - \b\b\\ \b\b| \b\b/ \b\b- \b\b\\ \b\b| \b\b/ \b\bdone\n",
            "Solving environment: \\ \b\b| \b\bdone\n",
            "\n",
            "# All requested packages already installed.\n",
            "\n"
          ]
        }
      ]
    },
    {
      "cell_type": "code",
      "source": [
        "# --- Montar Google Drive ---\n",
        "from google.colab import drive\n",
        "drive.mount('/content/drive')"
      ],
      "metadata": {
        "colab": {
          "base_uri": "https://localhost:8080/"
        },
        "id": "aPrU8N8V_K3p",
        "outputId": "e8f1f5ff-45a6-4cf3-aad5-57410be17171"
      },
      "execution_count": 3,
      "outputs": [
        {
          "output_type": "stream",
          "name": "stdout",
          "text": [
            "Mounted at /content/drive\n"
          ]
        }
      ]
    },
    {
      "cell_type": "code",
      "source": [
        "!NanoShaper"
      ],
      "metadata": {
        "colab": {
          "base_uri": "https://localhost:8080/"
        },
        "id": "EhBWX2r0E4hX",
        "outputId": "8c13e1d3-106d-4545-8b83-8905d9e46493"
      },
      "execution_count": 1,
      "outputs": [
        {
          "output_type": "stream",
          "name": "stdout",
          "text": [
            "/bin/bash: line 1: NanoShaper: command not found\n"
          ]
        }
      ]
    },
    {
      "cell_type": "code",
      "source": [
        "import numpy as np\n",
        "import os\n",
        "import shutil\n",
        "\n",
        "dire_base = '/content/drive/MyDrive/SIMULACION_PYGBE/test/casos1000'\n",
        "\n",
        "carpetas_principales=['0_d_original','1_d_aumentada','3_open_RBD']\n",
        "\n",
        "carpeta_casos_0=['head_omicron1','RBM_omicron0'] #['head_omicron0','head_omicron1','head_WT0','head_WT1','RBM_omicron0','RBM_omicron1','RBM_WT0','RBM_WT1','head_omicron1_ant','head_omicron1_pos']\n",
        "carpeta_casos_1=['head_WT0','RBM_WT1'] #['head_omicron0','head_omicron1','head_WT0','head_WT1','RBM_omicron0','RBM_omicron1','RBM_WT0','RBM_WT1','head_omicron0_substitute']\n",
        "carpeta_casos_3=['omicron1_116','wt0_178']\n",
        "                #['omicron0_191','omicron0_60','omicron1_165','omicron1_78','wt0_186','wt1_190','omicron0_207','omicron0_89','omicron1_27',\n",
        "                # 'wt0_138','wt0_226','wt1_82','omicron0_222','omicron1_116','omicron1_299','wt0_175','wt0_278','omicron0_32','omicron1_139',\n",
        "                # 'omicron1_68','wt0_178','wt1_125']\n",
        "\n",
        "id_key=['move100A','move1000A']\n",
        "\n",
        "\n",
        "prm_template = \"\"\"Operative_Mode = normal\n",
        "Compute_Vertex_Normals = true\n",
        "Save_Mesh_MSMS_Format = true\n",
        "Pocket_Radius_Big = 3.0\n",
        "Pocket_Radius_Small = 1.4\n",
        "Num_Wat_Pocket = 2\n",
        "Tri2Balls = false\n",
        "Grid_scale = 1.5\n",
        "Grid_perfil = 90.0\n",
        "XYZR_FileName = {xyzr}\n",
        "Build_epsilon_maps  = false\n",
        "Build_status_map = true\n",
        "Surface = ses\n",
        "Smooth_Mesh = true\n",
        "Number_thread = 32\n",
        "Skin_Surface_Parameter = 0.45\n",
        "Blobbyness = -2.5\n",
        "Surface_File_Name = triangulatedSurf.off\n",
        "Save_Mesh_MSMS_Format = true\n",
        "Cavity_Detection_Filling = true\n",
        "Conditional_Volume_Filling_Value = 11.4\n",
        "Keep_Water_Shaped_Cavities = false\n",
        "Probe_Radius = 1.4\n",
        "Accurate_Triangulation = true\n",
        "Triangulation = true\n",
        "Check_duplicated_vertices = true\n",
        "Save_Status_map = false\n",
        "Save_PovRay = false\n",
        "Max_mesh_auxiliary_grid_size = 100\n",
        "Max_mesh_patches_per_auxiliary_grid_cell = 250\n",
        "Max_mesh_auxiliary_grid_2d_size = 100\n",
        "Max_mesh_patches_per_auxiliary_grid_2d_cell = 250\n",
        "Max_ses_patches_auxiliary_grid_size = 100geometry\n",
        "Max_ses_patches_per_auxiliary_grid_cell = 400\n",
        "Max_ses_patches_auxiliary_grid_2d_size = 40\n",
        "Max_ses_patches_per_auxiliary_grid_2d_cell = 400\n",
        "Max_skin_patches_auxiliary_grid_size = 100\n",
        "Max_skin_patches_per_auxiliary_grid_cell = 400\n",
        "Max_skin_patches_auxiliary_grid_2d_size = 50\n",
        "Max_skin_patches_per_auxiliary_grid_2d_cell = 400\n",
        "\"\"\"\n",
        "\n",
        "\n",
        "\n",
        "# Función para crear xyzr desde pqr\n",
        "def create_xyzr_from_pqr(pqr_path, xyzr_path):\n",
        "    with open(pqr_path, 'r') as infile, open(xyzr_path, 'w') as outfile:\n",
        "        for line in infile:\n",
        "            if line.startswith('ATOM') or line.startswith('HETATM'):\n",
        "                parts = line.split()\n",
        "                try:\n",
        "                    x, y, z, radius = parts[5], parts[6], parts[7], parts[9]\n",
        "                    outfile.write(f\"{x} {y} {z} {radius}\\n\")\n",
        "                except IndexError:\n",
        "                    print(f\"Error parsing line in {pqr_path}: {line.strip()}\")\n",
        "\n",
        "for raiz in carpetas_principales:\n",
        "    #comentar esta seccion si no es el caso completo\n",
        "    if raiz == '0_d_original':\n",
        "        carpeta_casos=carpeta_casos_0\n",
        "    elif raiz == '1_d_aumentada':\n",
        "        carpeta_casos=carpeta_casos_1\n",
        "    elif raiz == '3_open_RBD':\n",
        "        carpeta_casos=carpeta_casos_3\n",
        "    #comentar esta seccion si no es el caso competo\n",
        "\n",
        "\n",
        "    for rama in carpeta_casos:\n",
        "      for key in id_key:\n",
        "\n",
        "\n",
        "        for mol in ['prot', 'gly']:\n",
        "          geometry_path = f\"{dire_base}/{raiz}/{rama}/{key}/geometry\"\n",
        "          path_caso=f\"{dire_base}/{raiz}/{rama}/{key}\"\n",
        "          pqr_path = f\"{dire_base}/{raiz}/{rama}/{key}/{mol}.pqr\"\n",
        "          xyzr_path = f\"{dire_base}/{raiz}/{rama}/{key}/{mol}.xyzr\"\n",
        "          prm_path = f\"{dire_base}/{raiz}/{rama}/{key}/{mol}.prm\"\n",
        "          create_xyzr_from_pqr(pqr_path, xyzr_path)\n",
        "          prm_content = prm_template.format(xyzr=os.path.basename(xyzr_path))\n",
        "          with open(prm_path, 'w') as f:\n",
        "              f.write(prm_content)\n",
        "\n",
        "          current_dir = os.getcwd()\n",
        "          os.chdir(os.path.dirname(prm_path))\n",
        "          print(os.getcwd(),current_dir)\n",
        "          print({os.path.basename(prm_path)})\n",
        "\n",
        "          print(f\"[INFO] Ejecutando NanoShaper en {prm_path}\")\n",
        "          os.system(f\"{NANOSHAPER_PATH} {os.path.basename(prm_path)}\")\n",
        "\n",
        "\n",
        "          # 4. Mover .vert y .face a geometry y renombrar\n",
        "          for ext in ['vert', 'face']:\n",
        "              src = f\"{path_caso}/triangulatedSurf.{ext}\"\n",
        "              dst = os.path.join(geometry_path, f\"{mol}.{ext}\")\n",
        "              if os.path.exists(src):\n",
        "                  shutil.move(src, dst)\n",
        "                  print(f\"[OK] Movido: {src} → {dst}\")\n",
        "              else:\n",
        "                  print(f\"[WARN] No se encontró {src}\")\n",
        "\n",
        "          # 5. Volver al directorio original\n",
        "          os.chdir(current_dir)\n",
        "\n"
      ],
      "metadata": {
        "colab": {
          "base_uri": "https://localhost:8080/"
        },
        "id": "T5zxNJrfz8ol",
        "outputId": "9d1d3aa7-1704-429e-f047-1de0f2c8dc43"
      },
      "execution_count": 15,
      "outputs": [
        {
          "output_type": "stream",
          "name": "stdout",
          "text": [
            "/content/drive/MyDrive/SIMULACION_PYGBE/test/casos8/0_d_original/head_omicron1/move2A /content/drive/MyDrive/SIMULACION_PYGBE/test/casos1000/0_d_original/head_omicron1/move100A\n",
            "{'prot.prm'}\n",
            "[INFO] Ejecutando NanoShaper en /content/drive/MyDrive/SIMULACION_PYGBE/test/casos8/0_d_original/head_omicron1/move2A/prot.prm\n",
            "[OK] Movido: /content/drive/MyDrive/SIMULACION_PYGBE/test/casos8/0_d_original/head_omicron1/move2A/triangulatedSurf.vert → /content/drive/MyDrive/SIMULACION_PYGBE/test/casos8/0_d_original/head_omicron1/move2A/geometry/prot.vert\n",
            "[OK] Movido: /content/drive/MyDrive/SIMULACION_PYGBE/test/casos8/0_d_original/head_omicron1/move2A/triangulatedSurf.face → /content/drive/MyDrive/SIMULACION_PYGBE/test/casos8/0_d_original/head_omicron1/move2A/geometry/prot.face\n",
            "/content/drive/MyDrive/SIMULACION_PYGBE/test/casos8/0_d_original/head_omicron1/move2A /content/drive/MyDrive/SIMULACION_PYGBE/test/casos1000/0_d_original/head_omicron1/move100A\n",
            "{'gly.prm'}\n",
            "[INFO] Ejecutando NanoShaper en /content/drive/MyDrive/SIMULACION_PYGBE/test/casos8/0_d_original/head_omicron1/move2A/gly.prm\n",
            "[OK] Movido: /content/drive/MyDrive/SIMULACION_PYGBE/test/casos8/0_d_original/head_omicron1/move2A/triangulatedSurf.vert → /content/drive/MyDrive/SIMULACION_PYGBE/test/casos8/0_d_original/head_omicron1/move2A/geometry/gly.vert\n",
            "[OK] Movido: /content/drive/MyDrive/SIMULACION_PYGBE/test/casos8/0_d_original/head_omicron1/move2A/triangulatedSurf.face → /content/drive/MyDrive/SIMULACION_PYGBE/test/casos8/0_d_original/head_omicron1/move2A/geometry/gly.face\n"
          ]
        }
      ]
    }
  ]
}