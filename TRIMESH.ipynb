{
  "nbformat": 4,
  "nbformat_minor": 0,
  "metadata": {
    "colab": {
      "provenance": [],
      "authorship_tag": "ABX9TyPQA+olHovUOZKd06Roxife",
      "include_colab_link": true
    },
    "kernelspec": {
      "name": "python3",
      "display_name": "Python 3"
    },
    "language_info": {
      "name": "python"
    }
  },
  "cells": [
    {
      "cell_type": "markdown",
      "metadata": {
        "id": "view-in-github",
        "colab_type": "text"
      },
      "source": [
        "<a href=\"https://colab.research.google.com/github/willymenacho/HTML/blob/main/TRIMESH.ipynb\" target=\"_parent\"><img src=\"https://colab.research.google.com/assets/colab-badge.svg\" alt=\"Open In Colab\"/></a>"
      ]
    },
    {
      "cell_type": "code",
      "execution_count": 2,
      "metadata": {
        "colab": {
          "base_uri": "https://localhost:8080/"
        },
        "id": "5JTdCQXRUDNx",
        "outputId": "27d80101-3a7c-4acc-e6d6-7f8f5889a091"
      },
      "outputs": [
        {
          "output_type": "stream",
          "name": "stdout",
          "text": [
            "Mounted at /content/drive\n"
          ]
        }
      ],
      "source": [
        "!pip install trimesh --quiet\n",
        "# --- Montar Google Drive ---\n",
        "from google.colab import drive\n",
        "drive.mount('/content/drive')\n",
        "\n",
        "# --- Importar librerías ---\n",
        "import trimesh\n",
        "import numpy as np\n",
        "import os"
      ]
    },
    {
      "cell_type": "code",
      "source": [
        "dire_base = '/content/drive/MyDrive/SIMULACION_PYGBE/test/casos1000'\n",
        "\n",
        "carpetas_principales=['0_d_original','1_d_aumentada','3_open_RBD']\n",
        "\n",
        "carpeta_casos_0=['head_omicron1','RBM_omicron0'] #['head_omicron0','head_omicron1','head_WT0','head_WT1','RBM_omicron0','RBM_omicron1','RBM_WT0','RBM_WT1','head_omicron1_ant','head_omicron1_pos']\n",
        "carpeta_casos_1=['head_WT0','RBM_WT1'] #['head_omicron0','head_omicron1','head_WT0','head_WT1','RBM_omicron0','RBM_omicron1','RBM_WT0','RBM_WT1','head_omicron0_substitute']\n",
        "carpeta_casos_3=['omicron1_116','wt0_178']\n",
        "                #['omicron0_191','omicron0_60','omicron1_165','omicron1_78','wt0_186','wt1_190','omicron0_207','omicron0_89','omicron1_27',\n",
        "                # 'wt0_138','wt0_226','wt1_82','omicron0_222','omicron1_116','omicron1_299','wt0_175','wt0_278','omicron0_32','omicron1_139',\n",
        "                # 'omicron1_68','wt0_178','wt1_125']\n",
        "\n",
        "id_key=['move100A','move1000A']\n",
        "\n",
        "for raiz in carpetas_principales:\n",
        "    #comentar esta seccion si no es el caso completo\n",
        "    if raiz == '0_d_original':\n",
        "        carpeta_casos=carpeta_casos_0\n",
        "    elif raiz == '1_d_aumentada':\n",
        "        carpeta_casos=carpeta_casos_1\n",
        "    elif raiz == '3_open_RBD':\n",
        "        carpeta_casos=carpeta_casos_3\n",
        "    #comentar esta seccion si no es el caso competo\n",
        "\n",
        "\n",
        "    for rama in carpeta_casos:\n",
        "      for key in id_key:\n",
        "        dire_path_geometry = f\"{dire_base}/{raiz}/{rama}/{key}/geometry/\"\n",
        "        for mol in ['prot', 'gly']:\n",
        "        # Ruta base del archivo sin extensión\n",
        "          base_filename = os.path.join(dire_path_geometry, mol)\n",
        "          print(base_filename)\n",
        "          face_file = base_filename + '.face'\n",
        "          vert_file = base_filename + '.vert'\n",
        "\n",
        "          # Verificar que existan los archivos .face y .vert antes de continuar\n",
        "          if os.path.exists(face_file) and os.path.exists(vert_file):\n",
        "              try:\n",
        "                  faces = np.loadtxt(face_file, dtype=int, skiprows=3, usecols=(0,1,2))\n",
        "                  vertices = np.loadtxt(vert_file, dtype=float, skiprows=3, usecols=(0,1,2))\n",
        "\n",
        "                  mesh = trimesh.Trimesh(vertices=vertices, faces=faces-1, process=False)\n",
        "                  mesh_split = mesh.split()\n",
        "\n",
        "                  len_faces = [len(m.faces) for m in mesh_split]\n",
        "                  index_max_faces = np.argmax(len_faces)\n",
        "\n",
        "                  vertices_split = mesh_split[index_max_faces].vertices\n",
        "                  faces_split = mesh_split[index_max_faces].faces\n",
        "\n",
        "                  # Guardar los archivos procesados\n",
        "                  np.savetxt(base_filename + '_split.face', faces_split + 1, fmt='%d')\n",
        "                  np.savetxt(base_filename + '_split.vert', vertices_split, fmt='%1.5f')\n",
        "\n",
        "                  print(f\"[OK] Procesado {mol} en {rama} - {key} ({len_faces[index_max_faces]} caras)\")\n",
        "              except Exception as e:\n",
        "                  print(f\"[ERROR] Fallo al procesar {mol} en {rama} - {key}: {e}\")\n",
        "          else:\n",
        "              print(f\"[WARN] Faltan archivos para {mol} en {rama} - {key}\")"
      ],
      "metadata": {
        "colab": {
          "base_uri": "https://localhost:8080/"
        },
        "id": "5_aZiZt_ggRa",
        "outputId": "221e6beb-8c4b-48dd-dbe2-ff7402d4cf2f"
      },
      "execution_count": 7,
      "outputs": [
        {
          "output_type": "stream",
          "name": "stdout",
          "text": [
            "/content/drive/MyDrive/SIMULACION_PYGBE/test/casos8/0_d_original/head_omicron1/move2A/geometry/prot\n",
            "[OK] Procesado prot en head_omicron1 - move2A (66356 caras)\n",
            "/content/drive/MyDrive/SIMULACION_PYGBE/test/casos8/0_d_original/head_omicron1/move2A/geometry/gly\n",
            "[OK] Procesado gly en head_omicron1 - move2A (7208 caras)\n"
          ]
        }
      ]
    }
  ]
}